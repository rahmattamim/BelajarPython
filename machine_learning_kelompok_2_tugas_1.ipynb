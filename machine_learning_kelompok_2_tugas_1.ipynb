{
  "nbformat": 4,
  "nbformat_minor": 0,
  "metadata": {
    "colab": {
      "provenance": [],
      "authorship_tag": "ABX9TyMp7iVwPzdHSE0ElrcDiYLl",
      "include_colab_link": true
    },
    "kernelspec": {
      "name": "python3",
      "display_name": "Python 3"
    },
    "language_info": {
      "name": "python"
    }
  },
  "cells": [
    {
      "cell_type": "markdown",
      "metadata": {
        "id": "view-in-github",
        "colab_type": "text"
      },
      "source": [
        "<a href=\"https://colab.research.google.com/github/rahmattamim/belajarPython/blob/main/machine_learning_kelompok_2_tugas_1.ipynb\" target=\"_parent\"><img src=\"https://colab.research.google.com/assets/colab-badge.svg\" alt=\"Open In Colab\"/></a>"
      ]
    },
    {
      "cell_type": "code",
      "execution_count": null,
      "metadata": {
        "colab": {
          "base_uri": "https://localhost:8080/"
        },
        "id": "Xd8TpZkiOViB",
        "outputId": "a7d965e5-4ca7-4eb0-e682-a8f8668a0c34"
      },
      "outputs": [
        {
          "output_type": "stream",
          "name": "stdout",
          "text": [
            "4 8 12\n"
          ]
        }
      ],
      "source": [
        "#SKALAR : Bilangan tunggal\n",
        "a = 4\n",
        "b = 8\n",
        "c = a + b\n",
        "print(a, b, c)"
      ]
    },
    {
      "cell_type": "code",
      "source": [
        "#VEKTOR : Kumpulan skalar\n",
        "#import library numpy\n",
        "import numpy as np\n",
        "a = np.array([2, 4, 8])\n",
        "b = np.array([1, 3, 5])\n",
        "\n",
        "#PENJUMLAHAN\n",
        "c = a + b\n",
        "print(a, b, c)\n",
        "\n",
        "#pengurangan\n",
        "d = a - b\n",
        "print(a, b, d)\n",
        "\n",
        "#perkalian\n",
        "e = a*b\n",
        "print(a, b, e)\n",
        "\n",
        "#pembagian\n",
        "f = a/b\n",
        "print(a, b, f)\n",
        "\n",
        "#ekspresi dot\n",
        "g = np.dot(a, b)\n",
        "print(a, b, g)\n",
        "\n"
      ],
      "metadata": {
        "colab": {
          "base_uri": "https://localhost:8080/"
        },
        "id": "r9ZySHuuOsH2",
        "outputId": "8c3ec686-5d41-44c2-c37a-be0c4f499d88"
      },
      "execution_count": null,
      "outputs": [
        {
          "output_type": "stream",
          "name": "stdout",
          "text": [
            "[2 4 8] [1 3 5] [ 3  7 13]\n",
            "[2 4 8] [1 3 5] [1 1 3]\n",
            "[2 4 8] [1 3 5] [ 2 12 40]\n",
            "[2 4 8] [1 3 5] [2.         1.33333333 1.6       ]\n",
            "[2 4 8] [1 3 5] 54\n"
          ]
        }
      ]
    },
    {
      "cell_type": "code",
      "source": [
        "#Matriks : Kumpulan vektor\n",
        "import numpy as np\n",
        "matriks = np.array([c, d, e, f])\n",
        "print(matriks)\n",
        "\n"
      ],
      "metadata": {
        "colab": {
          "base_uri": "https://localhost:8080/"
        },
        "id": "y-J97y-WPTGP",
        "outputId": "e1ea0009-56fc-41c8-a6be-f7392562b88a"
      },
      "execution_count": null,
      "outputs": [
        {
          "output_type": "stream",
          "name": "stdout",
          "text": [
            "[[ 3.          7.         13.        ]\n",
            " [ 1.          1.          3.        ]\n",
            " [ 2.         12.         40.        ]\n",
            " [ 2.          1.33333333  1.6       ]]\n"
          ]
        }
      ]
    },
    {
      "cell_type": "code",
      "source": [
        "#menghitung nilai determinan (untuk ordo baris dalam dan kolom sama atau matrix persegi)\n",
        "a = np.array([[1, 2], [3, 4]])\n",
        "determinan = np.linalg.det(a)\n",
        "print(determinan)"
      ],
      "metadata": {
        "colab": {
          "base_uri": "https://localhost:8080/"
        },
        "id": "nwhBFgZSWIi6",
        "outputId": "1c4cae59-adb9-403c-ab55-c86f1f4d6422"
      },
      "execution_count": null,
      "outputs": [
        {
          "output_type": "stream",
          "name": "stdout",
          "text": [
            "-2.0000000000000004\n"
          ]
        }
      ]
    },
    {
      "cell_type": "code",
      "source": [
        "#transpose => merubah kolom menjadi baris\n",
        "a = np.array([[1, 2, 3], [4, 5, 6]])\n",
        "transpose = np.transpose(a)\n",
        "print(transpose)"
      ],
      "metadata": {
        "colab": {
          "base_uri": "https://localhost:8080/"
        },
        "id": "Y1ZYQWxkWbLX",
        "outputId": "c35a68d1-20eb-4da6-c821-1baca65da620"
      },
      "execution_count": null,
      "outputs": [
        {
          "output_type": "stream",
          "name": "stdout",
          "text": [
            "[[1 4]\n",
            " [2 5]\n",
            " [3 6]]\n"
          ]
        }
      ]
    },
    {
      "cell_type": "code",
      "source": [
        "#mencari invers matriks a\n",
        "a = np.array([[1, 2], [3, 4]])\n",
        "invers = np.linalg.inv(a)\n",
        "print(invers)"
      ],
      "metadata": {
        "id": "EJzAaEoCWx7k",
        "outputId": "4e727a98-84c4-4e23-a557-f58ec5b51f84",
        "colab": {
          "base_uri": "https://localhost:8080/"
        }
      },
      "execution_count": null,
      "outputs": [
        {
          "output_type": "stream",
          "name": "stdout",
          "text": [
            "[[-2.   1. ]\n",
            " [ 1.5 -0.5]]\n"
          ]
        }
      ]
    },
    {
      "cell_type": "code",
      "source": [
        "import numpy as np\n",
        "!pip install torch # install torch if you haven't already\n",
        "import torch # import the torch module\n",
        "\n",
        "array_numpy = np.array([[1, 2, 3], [4, 5, 6], [7, 8, 9]])\n",
        "tensor_numpy = torch.from_numpy(array_numpy)\n",
        "print(\"\\nTensor dari NumPy Array:\\n\", tensor_numpy)"
      ],
      "metadata": {
        "colab": {
          "base_uri": "https://localhost:8080/"
        },
        "id": "_pguO59RS-Zu",
        "outputId": "ff0e4f92-2cca-400e-f64e-ca41651035e3"
      },
      "execution_count": null,
      "outputs": [
        {
          "output_type": "stream",
          "name": "stdout",
          "text": [
            "Requirement already satisfied: torch in /usr/local/lib/python3.10/dist-packages (2.4.1+cu121)\n",
            "Requirement already satisfied: filelock in /usr/local/lib/python3.10/dist-packages (from torch) (3.16.1)\n",
            "Requirement already satisfied: typing-extensions>=4.8.0 in /usr/local/lib/python3.10/dist-packages (from torch) (4.12.2)\n",
            "Requirement already satisfied: sympy in /usr/local/lib/python3.10/dist-packages (from torch) (1.13.3)\n",
            "Requirement already satisfied: networkx in /usr/local/lib/python3.10/dist-packages (from torch) (3.3)\n",
            "Requirement already satisfied: jinja2 in /usr/local/lib/python3.10/dist-packages (from torch) (3.1.4)\n",
            "Requirement already satisfied: fsspec in /usr/local/lib/python3.10/dist-packages (from torch) (2024.6.1)\n",
            "Requirement already satisfied: MarkupSafe>=2.0 in /usr/local/lib/python3.10/dist-packages (from jinja2->torch) (2.1.5)\n",
            "Requirement already satisfied: mpmath<1.4,>=1.1.0 in /usr/local/lib/python3.10/dist-packages (from sympy->torch) (1.3.0)\n",
            "\n",
            "Tensor dari NumPy Array:\n",
            " tensor([[1, 2, 3],\n",
            "        [4, 5, 6],\n",
            "        [7, 8, 9]])\n"
          ]
        }
      ]
    }
  ]
}